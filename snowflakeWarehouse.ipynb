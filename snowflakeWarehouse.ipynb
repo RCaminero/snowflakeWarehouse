{
  "nbformat": 4,
  "nbformat_minor": 0,
  "metadata": {
    "colab": {
      "provenance": [],
      "include_colab_link": true
    },
    "kernelspec": {
      "name": "python3",
      "display_name": "Python 3"
    },
    "language_info": {
      "name": "python"
    }
  },
  "cells": [
    {
      "cell_type": "markdown",
      "metadata": {
        "id": "view-in-github",
        "colab_type": "text"
      },
      "source": [
        "<a href=\"https://colab.research.google.com/github/RCaminero/snowflakeWarehouse/blob/main/snowflakeWarehouse.ipynb\" target=\"_parent\"><img src=\"https://colab.research.google.com/assets/colab-badge.svg\" alt=\"Open In Colab\"/></a>"
      ]
    },
    {
      "cell_type": "markdown",
      "source": [
        "**INSTALACIÓN DE SNOWFLAKE PARA PYTHON**"
      ],
      "metadata": {
        "id": "Uu0Ux75K5qfx"
      }
    },
    {
      "cell_type": "code",
      "execution_count": null,
      "metadata": {
        "id": "-ebdWIjLQUtf"
      },
      "outputs": [],
      "source": [
        "pip install --upgrade snowflake-connector-python"
      ]
    },
    {
      "cell_type": "code",
      "source": [
        "pip install snowflake-connector-python[secure-local-storage.pandas]"
      ],
      "metadata": {
        "id": "m0L8vON1DtP5"
      },
      "execution_count": null,
      "outputs": []
    },
    {
      "cell_type": "markdown",
      "source": [
        "**CREANDO LA CONEXIÓN AL DATA WAREHOUSE DE SNOWFLAKE**"
      ],
      "metadata": {
        "id": "uv7NqAzB58BO"
      }
    },
    {
      "cell_type": "code",
      "source": [
        "import snowflake.connector\n",
        "\n",
        "#Creando la conexión\n",
        "\n",
        "# Usa tus credenciales\n",
        "\n",
        "conn=snowflake.connector.connect(\n",
        "    user='',\n",
        "    password='',\n",
        "    account='',\n",
        "    warehouse='',\n",
        "    database='',\n",
        "    schema=''\n",
        ")"
      ],
      "metadata": {
        "id": "2xcq5Ae3ECY0"
      },
      "execution_count": null,
      "outputs": []
    },
    {
      "cell_type": "markdown",
      "source": [
        "**CONSULTANDO DATOS DEL WAREHOUSE**"
      ],
      "metadata": {
        "id": "JtFNVDm-6I2w"
      }
    },
    {
      "cell_type": "code",
      "source": [
        "#Creando un cursor y consultando datos\n",
        "\n",
        "curs=conn.cursor()\n",
        "\n",
        "curs.execute(\"USE ROLE ACCOUNTADMIN\")\n",
        "\n",
        "sql='select * from \"DATA_DB\".\"USERS\"' # Usa tu tabla en tu schema\n",
        "\n",
        "curs.execute(sql)\n",
        "\n",
        "df=curs.fetch_pandas_all()\n",
        "\n",
        "df\n"
      ],
      "metadata": {
        "colab": {
          "base_uri": "https://localhost:8080/",
          "height": 112
        },
        "id": "ygtLTHIuIvDE",
        "outputId": "a112c6aa-a9ac-49ac-c8a6-20019112b803"
      },
      "execution_count": null,
      "outputs": [
        {
          "output_type": "execute_result",
          "data": {
            "text/plain": [
              "    USERNAME                EMAIL PASSWORD         PHONE      CITY  \\\n",
              "0      GDIAZ      GDIAZ@GMAIL.COM    12345  809-233-4322   LA VEGA   \n",
              "1  RCAMINERO  RCAMINERO@GMAIL.COM    12345  809-768-0033  SANTIAGO   \n",
              "\n",
              "                COUNTRY  \n",
              "0  REPUBLICA DOMINICANA  \n",
              "1  REPUBLICA DOMINICANA  "
            ],
            "text/html": [
              "\n",
              "  <div id=\"df-571e3242-cfb6-42d8-8415-c8553a4d42f8\">\n",
              "    <div class=\"colab-df-container\">\n",
              "      <div>\n",
              "<style scoped>\n",
              "    .dataframe tbody tr th:only-of-type {\n",
              "        vertical-align: middle;\n",
              "    }\n",
              "\n",
              "    .dataframe tbody tr th {\n",
              "        vertical-align: top;\n",
              "    }\n",
              "\n",
              "    .dataframe thead th {\n",
              "        text-align: right;\n",
              "    }\n",
              "</style>\n",
              "<table border=\"1\" class=\"dataframe\">\n",
              "  <thead>\n",
              "    <tr style=\"text-align: right;\">\n",
              "      <th></th>\n",
              "      <th>USERNAME</th>\n",
              "      <th>EMAIL</th>\n",
              "      <th>PASSWORD</th>\n",
              "      <th>PHONE</th>\n",
              "      <th>CITY</th>\n",
              "      <th>COUNTRY</th>\n",
              "    </tr>\n",
              "  </thead>\n",
              "  <tbody>\n",
              "    <tr>\n",
              "      <th>0</th>\n",
              "      <td>GDIAZ</td>\n",
              "      <td>GDIAZ@GMAIL.COM</td>\n",
              "      <td>12345</td>\n",
              "      <td>809-233-4322</td>\n",
              "      <td>LA VEGA</td>\n",
              "      <td>REPUBLICA DOMINICANA</td>\n",
              "    </tr>\n",
              "    <tr>\n",
              "      <th>1</th>\n",
              "      <td>RCAMINERO</td>\n",
              "      <td>RCAMINERO@GMAIL.COM</td>\n",
              "      <td>12345</td>\n",
              "      <td>809-768-0033</td>\n",
              "      <td>SANTIAGO</td>\n",
              "      <td>REPUBLICA DOMINICANA</td>\n",
              "    </tr>\n",
              "  </tbody>\n",
              "</table>\n",
              "</div>\n",
              "      <button class=\"colab-df-convert\" onclick=\"convertToInteractive('df-571e3242-cfb6-42d8-8415-c8553a4d42f8')\"\n",
              "              title=\"Convert this dataframe to an interactive table.\"\n",
              "              style=\"display:none;\">\n",
              "        \n",
              "  <svg xmlns=\"http://www.w3.org/2000/svg\" height=\"24px\"viewBox=\"0 0 24 24\"\n",
              "       width=\"24px\">\n",
              "    <path d=\"M0 0h24v24H0V0z\" fill=\"none\"/>\n",
              "    <path d=\"M18.56 5.44l.94 2.06.94-2.06 2.06-.94-2.06-.94-.94-2.06-.94 2.06-2.06.94zm-11 1L8.5 8.5l.94-2.06 2.06-.94-2.06-.94L8.5 2.5l-.94 2.06-2.06.94zm10 10l.94 2.06.94-2.06 2.06-.94-2.06-.94-.94-2.06-.94 2.06-2.06.94z\"/><path d=\"M17.41 7.96l-1.37-1.37c-.4-.4-.92-.59-1.43-.59-.52 0-1.04.2-1.43.59L10.3 9.45l-7.72 7.72c-.78.78-.78 2.05 0 2.83L4 21.41c.39.39.9.59 1.41.59.51 0 1.02-.2 1.41-.59l7.78-7.78 2.81-2.81c.8-.78.8-2.07 0-2.86zM5.41 20L4 18.59l7.72-7.72 1.47 1.35L5.41 20z\"/>\n",
              "  </svg>\n",
              "      </button>\n",
              "      \n",
              "  <style>\n",
              "    .colab-df-container {\n",
              "      display:flex;\n",
              "      flex-wrap:wrap;\n",
              "      gap: 12px;\n",
              "    }\n",
              "\n",
              "    .colab-df-convert {\n",
              "      background-color: #E8F0FE;\n",
              "      border: none;\n",
              "      border-radius: 50%;\n",
              "      cursor: pointer;\n",
              "      display: none;\n",
              "      fill: #1967D2;\n",
              "      height: 32px;\n",
              "      padding: 0 0 0 0;\n",
              "      width: 32px;\n",
              "    }\n",
              "\n",
              "    .colab-df-convert:hover {\n",
              "      background-color: #E2EBFA;\n",
              "      box-shadow: 0px 1px 2px rgba(60, 64, 67, 0.3), 0px 1px 3px 1px rgba(60, 64, 67, 0.15);\n",
              "      fill: #174EA6;\n",
              "    }\n",
              "\n",
              "    [theme=dark] .colab-df-convert {\n",
              "      background-color: #3B4455;\n",
              "      fill: #D2E3FC;\n",
              "    }\n",
              "\n",
              "    [theme=dark] .colab-df-convert:hover {\n",
              "      background-color: #434B5C;\n",
              "      box-shadow: 0px 1px 3px 1px rgba(0, 0, 0, 0.15);\n",
              "      filter: drop-shadow(0px 1px 2px rgba(0, 0, 0, 0.3));\n",
              "      fill: #FFFFFF;\n",
              "    }\n",
              "  </style>\n",
              "\n",
              "      <script>\n",
              "        const buttonEl =\n",
              "          document.querySelector('#df-571e3242-cfb6-42d8-8415-c8553a4d42f8 button.colab-df-convert');\n",
              "        buttonEl.style.display =\n",
              "          google.colab.kernel.accessAllowed ? 'block' : 'none';\n",
              "\n",
              "        async function convertToInteractive(key) {\n",
              "          const element = document.querySelector('#df-571e3242-cfb6-42d8-8415-c8553a4d42f8');\n",
              "          const dataTable =\n",
              "            await google.colab.kernel.invokeFunction('convertToInteractive',\n",
              "                                                     [key], {});\n",
              "          if (!dataTable) return;\n",
              "\n",
              "          const docLinkHtml = 'Like what you see? Visit the ' +\n",
              "            '<a target=\"_blank\" href=https://colab.research.google.com/notebooks/data_table.ipynb>data table notebook</a>'\n",
              "            + ' to learn more about interactive tables.';\n",
              "          element.innerHTML = '';\n",
              "          dataTable['output_type'] = 'display_data';\n",
              "          await google.colab.output.renderOutput(dataTable, element);\n",
              "          const docLink = document.createElement('div');\n",
              "          docLink.innerHTML = docLinkHtml;\n",
              "          element.appendChild(docLink);\n",
              "        }\n",
              "      </script>\n",
              "    </div>\n",
              "  </div>\n",
              "  "
            ]
          },
          "metadata": {},
          "execution_count": 4
        }
      ]
    },
    {
      "cell_type": "markdown",
      "source": [
        "**AGREGANDO DATOS AL WAREHOUSE Y CONSULTANDO**"
      ],
      "metadata": {
        "id": "jldQM06t6PkB"
      }
    },
    {
      "cell_type": "code",
      "source": [
        "#Insertando datos y consultando\n",
        "\n",
        "curs=conn.cursor()\n",
        "\n",
        "curs.execute(\"USE ROLE ACCOUNTADMIN\")\n",
        "\n",
        "sql=\"INSERT INTO USERS (USERNAME, EMAIL, PASSWORD, PHONE, CITY, COUNTRY) VALUES ('JPEREZ', 'JEREZ@GMAIL.COM', '12345', '809-468-7893', 'BONAO', 'REPUBLICA DOMINICANA');\" # Usa tu tabla\n",
        "\n",
        "curs.execute(sql)\n",
        "\n",
        "sql='select * from \"DATA_DB\".\"USERS\"'\n",
        "curs.execute(sql)\n",
        "\n",
        "df=curs.fetch_pandas_all()\n",
        "\n",
        "\n",
        "df"
      ],
      "metadata": {
        "colab": {
          "base_uri": "https://localhost:8080/",
          "height": 143
        },
        "id": "oPF3vF2JMauz",
        "outputId": "f62af36e-8626-45a0-ce73-2170b341613b"
      },
      "execution_count": null,
      "outputs": [
        {
          "output_type": "execute_result",
          "data": {
            "text/plain": [
              "    USERNAME                EMAIL PASSWORD         PHONE      CITY  \\\n",
              "0      GDIAZ      GDIAZ@GMAIL.COM    12345  809-233-4322   LA VEGA   \n",
              "1  RCAMINERO  RCAMINERO@GMAIL.COM    12345  809-768-0033  SANTIAGO   \n",
              "2   LRAMIREZ   LRAMIREZ@GMAIL.COM    12345  809-468-7893     BONAO   \n",
              "\n",
              "                COUNTRY  \n",
              "0  REPUBLICA DOMINICANA  \n",
              "1  REPUBLICA DOMINICANA  \n",
              "2  REPUBLICA DOMINICANA  "
            ],
            "text/html": [
              "\n",
              "  <div id=\"df-a1bf78ff-0ee0-4623-a815-79fa1f302f85\">\n",
              "    <div class=\"colab-df-container\">\n",
              "      <div>\n",
              "<style scoped>\n",
              "    .dataframe tbody tr th:only-of-type {\n",
              "        vertical-align: middle;\n",
              "    }\n",
              "\n",
              "    .dataframe tbody tr th {\n",
              "        vertical-align: top;\n",
              "    }\n",
              "\n",
              "    .dataframe thead th {\n",
              "        text-align: right;\n",
              "    }\n",
              "</style>\n",
              "<table border=\"1\" class=\"dataframe\">\n",
              "  <thead>\n",
              "    <tr style=\"text-align: right;\">\n",
              "      <th></th>\n",
              "      <th>USERNAME</th>\n",
              "      <th>EMAIL</th>\n",
              "      <th>PASSWORD</th>\n",
              "      <th>PHONE</th>\n",
              "      <th>CITY</th>\n",
              "      <th>COUNTRY</th>\n",
              "    </tr>\n",
              "  </thead>\n",
              "  <tbody>\n",
              "    <tr>\n",
              "      <th>0</th>\n",
              "      <td>GDIAZ</td>\n",
              "      <td>GDIAZ@GMAIL.COM</td>\n",
              "      <td>12345</td>\n",
              "      <td>809-233-4322</td>\n",
              "      <td>LA VEGA</td>\n",
              "      <td>REPUBLICA DOMINICANA</td>\n",
              "    </tr>\n",
              "    <tr>\n",
              "      <th>1</th>\n",
              "      <td>RCAMINERO</td>\n",
              "      <td>RCAMINERO@GMAIL.COM</td>\n",
              "      <td>12345</td>\n",
              "      <td>809-768-0033</td>\n",
              "      <td>SANTIAGO</td>\n",
              "      <td>REPUBLICA DOMINICANA</td>\n",
              "    </tr>\n",
              "    <tr>\n",
              "      <th>2</th>\n",
              "      <td>LRAMIREZ</td>\n",
              "      <td>LRAMIREZ@GMAIL.COM</td>\n",
              "      <td>12345</td>\n",
              "      <td>809-468-7893</td>\n",
              "      <td>BONAO</td>\n",
              "      <td>REPUBLICA DOMINICANA</td>\n",
              "    </tr>\n",
              "  </tbody>\n",
              "</table>\n",
              "</div>\n",
              "      <button class=\"colab-df-convert\" onclick=\"convertToInteractive('df-a1bf78ff-0ee0-4623-a815-79fa1f302f85')\"\n",
              "              title=\"Convert this dataframe to an interactive table.\"\n",
              "              style=\"display:none;\">\n",
              "        \n",
              "  <svg xmlns=\"http://www.w3.org/2000/svg\" height=\"24px\"viewBox=\"0 0 24 24\"\n",
              "       width=\"24px\">\n",
              "    <path d=\"M0 0h24v24H0V0z\" fill=\"none\"/>\n",
              "    <path d=\"M18.56 5.44l.94 2.06.94-2.06 2.06-.94-2.06-.94-.94-2.06-.94 2.06-2.06.94zm-11 1L8.5 8.5l.94-2.06 2.06-.94-2.06-.94L8.5 2.5l-.94 2.06-2.06.94zm10 10l.94 2.06.94-2.06 2.06-.94-2.06-.94-.94-2.06-.94 2.06-2.06.94z\"/><path d=\"M17.41 7.96l-1.37-1.37c-.4-.4-.92-.59-1.43-.59-.52 0-1.04.2-1.43.59L10.3 9.45l-7.72 7.72c-.78.78-.78 2.05 0 2.83L4 21.41c.39.39.9.59 1.41.59.51 0 1.02-.2 1.41-.59l7.78-7.78 2.81-2.81c.8-.78.8-2.07 0-2.86zM5.41 20L4 18.59l7.72-7.72 1.47 1.35L5.41 20z\"/>\n",
              "  </svg>\n",
              "      </button>\n",
              "      \n",
              "  <style>\n",
              "    .colab-df-container {\n",
              "      display:flex;\n",
              "      flex-wrap:wrap;\n",
              "      gap: 12px;\n",
              "    }\n",
              "\n",
              "    .colab-df-convert {\n",
              "      background-color: #E8F0FE;\n",
              "      border: none;\n",
              "      border-radius: 50%;\n",
              "      cursor: pointer;\n",
              "      display: none;\n",
              "      fill: #1967D2;\n",
              "      height: 32px;\n",
              "      padding: 0 0 0 0;\n",
              "      width: 32px;\n",
              "    }\n",
              "\n",
              "    .colab-df-convert:hover {\n",
              "      background-color: #E2EBFA;\n",
              "      box-shadow: 0px 1px 2px rgba(60, 64, 67, 0.3), 0px 1px 3px 1px rgba(60, 64, 67, 0.15);\n",
              "      fill: #174EA6;\n",
              "    }\n",
              "\n",
              "    [theme=dark] .colab-df-convert {\n",
              "      background-color: #3B4455;\n",
              "      fill: #D2E3FC;\n",
              "    }\n",
              "\n",
              "    [theme=dark] .colab-df-convert:hover {\n",
              "      background-color: #434B5C;\n",
              "      box-shadow: 0px 1px 3px 1px rgba(0, 0, 0, 0.15);\n",
              "      filter: drop-shadow(0px 1px 2px rgba(0, 0, 0, 0.3));\n",
              "      fill: #FFFFFF;\n",
              "    }\n",
              "  </style>\n",
              "\n",
              "      <script>\n",
              "        const buttonEl =\n",
              "          document.querySelector('#df-a1bf78ff-0ee0-4623-a815-79fa1f302f85 button.colab-df-convert');\n",
              "        buttonEl.style.display =\n",
              "          google.colab.kernel.accessAllowed ? 'block' : 'none';\n",
              "\n",
              "        async function convertToInteractive(key) {\n",
              "          const element = document.querySelector('#df-a1bf78ff-0ee0-4623-a815-79fa1f302f85');\n",
              "          const dataTable =\n",
              "            await google.colab.kernel.invokeFunction('convertToInteractive',\n",
              "                                                     [key], {});\n",
              "          if (!dataTable) return;\n",
              "\n",
              "          const docLinkHtml = 'Like what you see? Visit the ' +\n",
              "            '<a target=\"_blank\" href=https://colab.research.google.com/notebooks/data_table.ipynb>data table notebook</a>'\n",
              "            + ' to learn more about interactive tables.';\n",
              "          element.innerHTML = '';\n",
              "          dataTable['output_type'] = 'display_data';\n",
              "          await google.colab.output.renderOutput(dataTable, element);\n",
              "          const docLink = document.createElement('div');\n",
              "          docLink.innerHTML = docLinkHtml;\n",
              "          element.appendChild(docLink);\n",
              "        }\n",
              "      </script>\n",
              "    </div>\n",
              "  </div>\n",
              "  "
            ]
          },
          "metadata": {},
          "execution_count": 5
        }
      ]
    }
  ]
}